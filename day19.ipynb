{
  "nbformat": 4,
  "nbformat_minor": 0,
  "metadata": {
    "colab": {
      "provenance": []
    },
    "kernelspec": {
      "name": "python3",
      "display_name": "Python 3"
    },
    "language_info": {
      "name": "python"
    }
  },
  "cells": [
    {
      "cell_type": "code",
      "execution_count": 1,
      "metadata": {
        "id": "ADVaeci9XtP_"
      },
      "outputs": [],
      "source": [
        "import tensorflow as tf"
      ]
    },
    {
      "cell_type": "code",
      "source": [
        "tensor= tf. Variable (90.0)\n",
        "optimizer=tf.keras.optimizers.SGD(learning_rate = 0.01)"
      ],
      "metadata": {
        "id": "ChWCW09WXvCW"
      },
      "execution_count": 2,
      "outputs": []
    },
    {
      "cell_type": "code",
      "source": [
        "import tensorflow as tf\n",
        "tensor= tf.Variable (90.0)\n",
        "optimizer=tf.keras.optimizers.SGD(learning_rate = 0.01)\n",
        "\n",
        "with tf.GradientTape() as tape:\n",
        "  y = tensor**2\n",
        "  # Calculate the gradient of y with respect to x\n",
        "  dy_dx = tape.gradient(y, tensor)\n",
        "  print (dy_dx.numpy())\n"
      ],
      "metadata": {
        "colab": {
          "base_uri": "https://localhost:8080/"
        },
        "id": "yK_XVLAoXvFG",
        "outputId": "c7f2559a-8d75-4e11-9fc3-dfd4a6fbf37a"
      },
      "execution_count": 4,
      "outputs": [
        {
          "output_type": "stream",
          "name": "stdout",
          "text": [
            "180.0\n"
          ]
        }
      ]
    },
    {
      "cell_type": "code",
      "source": [
        "optimizer= tf.keras.optimizers.Adagrad(learning_rate = 0.01)\n",
        "\n",
        "with tf.GradientTape() as tape:\n",
        "  y = tensor**2\n",
        "  # Calculate the gradient of y with respect to x\n",
        "  dy_dx = tape.gradient(y, tensor)\n",
        "  print (dy_dx.numpy())\n",
        "\n",
        "optimizer.apply_gradients(zip([dy_dx], [tensor]))\n",
        "tensor.numpy()\n"
      ],
      "metadata": {
        "colab": {
          "base_uri": "https://localhost:8080/"
        },
        "id": "m1FGUz24XvH8",
        "outputId": "2104e00c-7fa0-4e36-c08d-594c0978a66c"
      },
      "execution_count": 5,
      "outputs": [
        {
          "output_type": "stream",
          "name": "stdout",
          "text": [
            "180.0\n"
          ]
        },
        {
          "output_type": "execute_result",
          "data": {
            "text/plain": [
              "89.99"
            ]
          },
          "metadata": {},
          "execution_count": 5
        }
      ]
    },
    {
      "cell_type": "code",
      "source": [
        "with tf.GradientTape() as tape:\n",
        "  y = tensor**2\n",
        "  # Calculate the gradient of y with respect to x\n",
        "  dy_dx = tape.gradient(y, tensor)\n",
        "  print (dy_dx.numpy())\n",
        "\n",
        "optimizer.apply_gradients(zip([dy_dx], [tensor]))\n",
        "tensor.numpy()"
      ],
      "metadata": {
        "colab": {
          "base_uri": "https://localhost:8080/"
        },
        "id": "n5PdxOlQXvKi",
        "outputId": "eb09c5f0-6160-4ba3-fe3f-16abcf10f22b"
      },
      "execution_count": 6,
      "outputs": [
        {
          "output_type": "stream",
          "name": "stdout",
          "text": [
            "179.98\n"
          ]
        },
        {
          "output_type": "execute_result",
          "data": {
            "text/plain": [
              "89.982925"
            ]
          },
          "metadata": {},
          "execution_count": 6
        }
      ]
    },
    {
      "cell_type": "code",
      "source": [
        "optimizer= tf.keras.optimizers.Adadelta(learning_rate = 0.01)\n",
        "optimizer.apply_gradients(zip([dy_dx], [tensor]))\n",
        "tensor.numpy()\n"
      ],
      "metadata": {
        "colab": {
          "base_uri": "https://localhost:8080/"
        },
        "id": "v0BnYA5NXvNI",
        "outputId": "9494f23a-c3e5-4509-cf3f-cb4289262360"
      },
      "execution_count": 7,
      "outputs": [
        {
          "output_type": "execute_result",
          "data": {
            "text/plain": [
              "89.98291"
            ]
          },
          "metadata": {},
          "execution_count": 7
        }
      ]
    },
    {
      "cell_type": "code",
      "source": [
        "with tf.GradientTape() as tape:\n",
        "  y = tensor**2\n",
        "  # Calculate the gradient of y with respect to x\n",
        "  dy_dx = tape.gradient(y, tensor)\n",
        "  print (dy_dx.numpy())\n",
        "\n",
        "optimizer.apply_gradients(zip([dy_dx], [tensor]))\n",
        "tensor.numpy()\n"
      ],
      "metadata": {
        "colab": {
          "base_uri": "https://localhost:8080/"
        },
        "id": "edKPvXiOXvP2",
        "outputId": "a2e17b52-f6e9-4f25-b381-7c77e7253996"
      },
      "execution_count": 8,
      "outputs": [
        {
          "output_type": "stream",
          "name": "stdout",
          "text": [
            "179.96582\n"
          ]
        },
        {
          "output_type": "execute_result",
          "data": {
            "text/plain": [
              "89.982895"
            ]
          },
          "metadata": {},
          "execution_count": 8
        }
      ]
    },
    {
      "cell_type": "code",
      "source": [
        "optimizer= tf.keras.optimizers.Adamax(learning_rate = 0.01)\n",
        "\n",
        "with tf.GradientTape() as tape:\n",
        "  y = tensor**2\n",
        "  # Calculate the gradient of y with respect to x\n",
        "  dy_dx = tape.gradient(y, tensor)\n",
        "  print (dy_dx.numpy())\n",
        "\n",
        "optimizer.apply_gradients(zip([dy_dx], [tensor]))\n",
        "tensor.numpy()\n"
      ],
      "metadata": {
        "colab": {
          "base_uri": "https://localhost:8080/"
        },
        "id": "6Pc_CKt0XvSp",
        "outputId": "2282e725-b438-4f2f-927e-75b057bf3c44"
      },
      "execution_count": 9,
      "outputs": [
        {
          "output_type": "stream",
          "name": "stdout",
          "text": [
            "179.96579\n"
          ]
        },
        {
          "output_type": "execute_result",
          "data": {
            "text/plain": [
              "89.97289"
            ]
          },
          "metadata": {},
          "execution_count": 9
        }
      ]
    },
    {
      "cell_type": "code",
      "source": [],
      "metadata": {
        "id": "BgPt_vVhXvVd"
      },
      "execution_count": null,
      "outputs": []
    },
    {
      "cell_type": "code",
      "source": [],
      "metadata": {
        "id": "MHeShOvXXvYV"
      },
      "execution_count": null,
      "outputs": []
    },
    {
      "cell_type": "code",
      "source": [],
      "metadata": {
        "id": "bFJU_kV6XvbI"
      },
      "execution_count": null,
      "outputs": []
    },
    {
      "cell_type": "code",
      "source": [],
      "metadata": {
        "id": "08FjaHKgXveE"
      },
      "execution_count": null,
      "outputs": []
    },
    {
      "cell_type": "code",
      "source": [],
      "metadata": {
        "id": "hu50vLP8Xvg7"
      },
      "execution_count": null,
      "outputs": []
    },
    {
      "cell_type": "code",
      "source": [],
      "metadata": {
        "id": "93or-c1yXvj1"
      },
      "execution_count": null,
      "outputs": []
    },
    {
      "cell_type": "code",
      "source": [],
      "metadata": {
        "id": "rWNEP92TXvme"
      },
      "execution_count": null,
      "outputs": []
    },
    {
      "cell_type": "code",
      "source": [],
      "metadata": {
        "id": "tuUKV9_wXvph"
      },
      "execution_count": null,
      "outputs": []
    },
    {
      "cell_type": "code",
      "source": [],
      "metadata": {
        "id": "S79mGZ5LXvsa"
      },
      "execution_count": null,
      "outputs": []
    },
    {
      "cell_type": "code",
      "source": [],
      "metadata": {
        "id": "xDpypYtaXvvQ"
      },
      "execution_count": null,
      "outputs": []
    },
    {
      "cell_type": "code",
      "source": [],
      "metadata": {
        "id": "bMeSs4VPXvyH"
      },
      "execution_count": null,
      "outputs": []
    },
    {
      "cell_type": "code",
      "source": [],
      "metadata": {
        "id": "E3j83mbFXv1M"
      },
      "execution_count": null,
      "outputs": []
    },
    {
      "cell_type": "code",
      "source": [],
      "metadata": {
        "id": "2ZzNEIZCXv37"
      },
      "execution_count": null,
      "outputs": []
    },
    {
      "cell_type": "code",
      "source": [],
      "metadata": {
        "id": "Mxs09fE5Xv62"
      },
      "execution_count": null,
      "outputs": []
    },
    {
      "cell_type": "code",
      "source": [],
      "metadata": {
        "id": "26wrFpA7Xv9h"
      },
      "execution_count": null,
      "outputs": []
    },
    {
      "cell_type": "code",
      "source": [],
      "metadata": {
        "id": "mft4d32FXwAc"
      },
      "execution_count": null,
      "outputs": []
    },
    {
      "cell_type": "code",
      "source": [],
      "metadata": {
        "id": "5ElVNBcNXwDL"
      },
      "execution_count": null,
      "outputs": []
    },
    {
      "cell_type": "code",
      "source": [],
      "metadata": {
        "id": "NDI6mozsXwF1"
      },
      "execution_count": null,
      "outputs": []
    },
    {
      "cell_type": "code",
      "source": [],
      "metadata": {
        "id": "Vq1dfLO3XwIx"
      },
      "execution_count": null,
      "outputs": []
    },
    {
      "cell_type": "code",
      "source": [],
      "metadata": {
        "id": "Hr7G_XUHXwLR"
      },
      "execution_count": null,
      "outputs": []
    },
    {
      "cell_type": "code",
      "source": [],
      "metadata": {
        "id": "5oOHvUpFXwOT"
      },
      "execution_count": null,
      "outputs": []
    },
    {
      "cell_type": "code",
      "source": [],
      "metadata": {
        "id": "2FjcUHnJXwRN"
      },
      "execution_count": null,
      "outputs": []
    },
    {
      "cell_type": "code",
      "source": [],
      "metadata": {
        "id": "mMF9DABFXwUH"
      },
      "execution_count": null,
      "outputs": []
    },
    {
      "cell_type": "code",
      "source": [],
      "metadata": {
        "id": "T40oV7eGXwW6"
      },
      "execution_count": null,
      "outputs": []
    },
    {
      "cell_type": "code",
      "source": [],
      "metadata": {
        "id": "E5YfnxVbXwZs"
      },
      "execution_count": null,
      "outputs": []
    },
    {
      "cell_type": "code",
      "source": [],
      "metadata": {
        "id": "cO-73OkyXwcV"
      },
      "execution_count": null,
      "outputs": []
    },
    {
      "cell_type": "code",
      "source": [],
      "metadata": {
        "id": "crLj6IQYXwe5"
      },
      "execution_count": null,
      "outputs": []
    }
  ]
}