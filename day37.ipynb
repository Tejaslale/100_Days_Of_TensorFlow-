{
  "nbformat": 4,
  "nbformat_minor": 0,
  "metadata": {
    "colab": {
      "provenance": []
    },
    "kernelspec": {
      "name": "python3",
      "display_name": "Python 3"
    },
    "language_info": {
      "name": "python"
    }
  },
  "cells": [
    {
      "cell_type": "code",
      "execution_count": null,
      "metadata": {
        "id": "-hpfI1o_QLOo"
      },
      "outputs": [],
      "source": [
        "import tensorflow as tf\n",
        "import pandas as pd\n",
        "import matplotlib.pyplot as plt\n",
        "from sklearn.model_selection import train_test_split"
      ]
    },
    {
      "cell_type": "code",
      "source": [
        "url = 'https://github.com/srinivasav22/Graduate-Admission-Prediction/raw/master/Admission_Predict_Ver1.1.csv'\n",
        "data = pd.read_csv(url)"
      ],
      "metadata": {
        "id": "jnNkjHNGQQhO"
      },
      "execution_count": null,
      "outputs": []
    },
    {
      "cell_type": "code",
      "source": [
        "# Drop the 'Serial No.' column\n",
        "data = data.drop('Serial No.', axis=1)"
      ],
      "metadata": {
        "id": "CqROpH3DQRrl"
      },
      "execution_count": null,
      "outputs": []
    },
    {
      "cell_type": "code",
      "source": [
        "# Prepare the features (X) and target (y)\n",
        "X = data.drop('Chance of Admit ', axis=1)\n",
        "y = data['Chance of Admit ']\n"
      ],
      "metadata": {
        "id": "iJYfRTPLQTHo"
      },
      "execution_count": null,
      "outputs": []
    },
    {
      "cell_type": "code",
      "source": [
        "# Split the data into training and testing sets\n",
        "X_train, X_test, y_train, y_test = train_test_split(X, y, test_size=0.3, random_state=92)\n"
      ],
      "metadata": {
        "id": "8v9Cl3ikQUkl"
      },
      "execution_count": null,
      "outputs": []
    },
    {
      "cell_type": "code",
      "source": [
        "# Set random seed for reproducibility\n",
        "tf.random.set_seed(42)\n"
      ],
      "metadata": {
        "id": "AT2CPGUZQWDi"
      },
      "execution_count": null,
      "outputs": []
    },
    {
      "cell_type": "code",
      "source": [
        "\n",
        "# Build the model\n",
        "model = tf.keras.Sequential([\n",
        "    tf.keras.layers.Dense(100, activation=tf.keras.layers.LeakyReLU()),\n",
        "    tf.keras.layers.Dense(50, activation=tf.keras.layers.LeakyReLU()),\n",
        "    tf.keras.layers.Dense(25, activation=tf.keras.layers.LeakyReLU()),\n",
        "    tf.keras.layers.Dense(1)  # No activation for output layer in regression\n",
        "])\n"
      ],
      "metadata": {
        "id": "l7H2pODOQXXn"
      },
      "execution_count": null,
      "outputs": []
    },
    {
      "cell_type": "code",
      "source": [
        "# Compile the model\n",
        "model.compile(loss=tf.keras.losses.MeanSquaredError(),\n",
        "              optimizer=tf.keras.optimizers.Adam(learning_rate=0.001),\n",
        "              metrics=['mae'])\n"
      ],
      "metadata": {
        "id": "N6jzCVblQYkQ"
      },
      "execution_count": null,
      "outputs": []
    },
    {
      "cell_type": "code",
      "source": [
        "# Train the model\n",
        "history = model.fit(X_train, y_train, epochs=70, verbose=1, validation_data=(X_test, y_test))\n"
      ],
      "metadata": {
        "colab": {
          "base_uri": "https://localhost:8080/"
        },
        "id": "bqOND3y6QZuf",
        "outputId": "5dda97c7-1543-4b2f-e52c-2b0264935a64"
      },
      "execution_count": null,
      "outputs": [
        {
          "output_type": "stream",
          "name": "stdout",
          "text": [
            "Epoch 1/70\n",
            "\u001b[1m11/11\u001b[0m \u001b[32m━━━━━━━━━━━━━━━━━━━━\u001b[0m\u001b[37m\u001b[0m \u001b[1m2s\u001b[0m 31ms/step - loss: 770.7642 - mae: 23.7572 - val_loss: 0.2736 - val_mae: 0.4375\n",
            "Epoch 2/70\n",
            "\u001b[1m11/11\u001b[0m \u001b[32m━━━━━━━━━━━━━━━━━━━━\u001b[0m\u001b[37m\u001b[0m \u001b[1m0s\u001b[0m 9ms/step - loss: 59.0507 - mae: 6.2951 - val_loss: 2.3455 - val_mae: 1.4993\n",
            "Epoch 3/70\n",
            "\u001b[1m11/11\u001b[0m \u001b[32m━━━━━━━━━━━━━━━━━━━━\u001b[0m\u001b[37m\u001b[0m \u001b[1m0s\u001b[0m 8ms/step - loss: 21.7876 - mae: 4.1699 - val_loss: 3.3780 - val_mae: 1.8170\n",
            "Epoch 4/70\n",
            "\u001b[1m11/11\u001b[0m \u001b[32m━━━━━━━━━━━━━━━━━━━━\u001b[0m\u001b[37m\u001b[0m \u001b[1m0s\u001b[0m 8ms/step - loss: 9.1988 - mae: 2.8306 - val_loss: 3.9117 - val_mae: 1.9534\n",
            "Epoch 5/70\n",
            "\u001b[1m11/11\u001b[0m \u001b[32m━━━━━━━━━━━━━━━━━━━━\u001b[0m\u001b[37m\u001b[0m \u001b[1m0s\u001b[0m 9ms/step - loss: 4.1968 - mae: 1.9222 - val_loss: 2.4563 - val_mae: 1.5431\n",
            "Epoch 6/70\n",
            "\u001b[1m11/11\u001b[0m \u001b[32m━━━━━━━━━━━━━━━━━━━━\u001b[0m\u001b[37m\u001b[0m \u001b[1m0s\u001b[0m 8ms/step - loss: 1.5627 - mae: 1.1395 - val_loss: 0.8174 - val_mae: 0.8567\n",
            "Epoch 7/70\n",
            "\u001b[1m11/11\u001b[0m \u001b[32m━━━━━━━━━━━━━━━━━━━━\u001b[0m\u001b[37m\u001b[0m \u001b[1m0s\u001b[0m 9ms/step - loss: 0.4412 - mae: 0.5740 - val_loss: 0.0852 - val_mae: 0.2357\n",
            "Epoch 8/70\n",
            "\u001b[1m11/11\u001b[0m \u001b[32m━━━━━━━━━━━━━━━━━━━━\u001b[0m\u001b[37m\u001b[0m \u001b[1m0s\u001b[0m 9ms/step - loss: 0.1261 - mae: 0.2878 - val_loss: 0.1140 - val_mae: 0.2704\n",
            "Epoch 9/70\n",
            "\u001b[1m11/11\u001b[0m \u001b[32m━━━━━━━━━━━━━━━━━━━━\u001b[0m\u001b[37m\u001b[0m \u001b[1m0s\u001b[0m 8ms/step - loss: 0.1149 - mae: 0.2693 - val_loss: 0.1111 - val_mae: 0.2714\n",
            "Epoch 10/70\n",
            "\u001b[1m11/11\u001b[0m \u001b[32m━━━━━━━━━━━━━━━━━━━━\u001b[0m\u001b[37m\u001b[0m \u001b[1m0s\u001b[0m 10ms/step - loss: 0.0908 - mae: 0.2404 - val_loss: 0.0780 - val_mae: 0.2256\n",
            "Epoch 11/70\n",
            "\u001b[1m11/11\u001b[0m \u001b[32m━━━━━━━━━━━━━━━━━━━━\u001b[0m\u001b[37m\u001b[0m \u001b[1m0s\u001b[0m 8ms/step - loss: 0.0740 - mae: 0.2148 - val_loss: 0.0751 - val_mae: 0.2233\n",
            "Epoch 12/70\n",
            "\u001b[1m11/11\u001b[0m \u001b[32m━━━━━━━━━━━━━━━━━━━━\u001b[0m\u001b[37m\u001b[0m \u001b[1m0s\u001b[0m 5ms/step - loss: 0.0703 - mae: 0.2006 - val_loss: 0.0752 - val_mae: 0.2221\n",
            "Epoch 13/70\n",
            "\u001b[1m11/11\u001b[0m \u001b[32m━━━━━━━━━━━━━━━━━━━━\u001b[0m\u001b[37m\u001b[0m \u001b[1m0s\u001b[0m 5ms/step - loss: 0.0712 - mae: 0.2039 - val_loss: 0.0764 - val_mae: 0.2231\n",
            "Epoch 14/70\n",
            "\u001b[1m11/11\u001b[0m \u001b[32m━━━━━━━━━━━━━━━━━━━━\u001b[0m\u001b[37m\u001b[0m \u001b[1m0s\u001b[0m 5ms/step - loss: 0.0709 - mae: 0.2062 - val_loss: 0.0744 - val_mae: 0.2205\n",
            "Epoch 15/70\n",
            "\u001b[1m11/11\u001b[0m \u001b[32m━━━━━━━━━━━━━━━━━━━━\u001b[0m\u001b[37m\u001b[0m \u001b[1m0s\u001b[0m 5ms/step - loss: 0.0693 - mae: 0.2033 - val_loss: 0.0731 - val_mae: 0.2188\n",
            "Epoch 16/70\n",
            "\u001b[1m11/11\u001b[0m \u001b[32m━━━━━━━━━━━━━━━━━━━━\u001b[0m\u001b[37m\u001b[0m \u001b[1m0s\u001b[0m 5ms/step - loss: 0.0683 - mae: 0.2011 - val_loss: 0.0726 - val_mae: 0.2179\n",
            "Epoch 17/70\n",
            "\u001b[1m11/11\u001b[0m \u001b[32m━━━━━━━━━━━━━━━━━━━━\u001b[0m\u001b[37m\u001b[0m \u001b[1m0s\u001b[0m 7ms/step - loss: 0.0679 - mae: 0.2004 - val_loss: 0.0722 - val_mae: 0.2171\n",
            "Epoch 18/70\n",
            "\u001b[1m11/11\u001b[0m \u001b[32m━━━━━━━━━━━━━━━━━━━━\u001b[0m\u001b[37m\u001b[0m \u001b[1m0s\u001b[0m 5ms/step - loss: 0.0674 - mae: 0.1999 - val_loss: 0.0716 - val_mae: 0.2161\n",
            "Epoch 19/70\n",
            "\u001b[1m11/11\u001b[0m \u001b[32m━━━━━━━━━━━━━━━━━━━━\u001b[0m\u001b[37m\u001b[0m \u001b[1m0s\u001b[0m 7ms/step - loss: 0.0668 - mae: 0.1990 - val_loss: 0.0709 - val_mae: 0.2150\n",
            "Epoch 20/70\n",
            "\u001b[1m11/11\u001b[0m \u001b[32m━━━━━━━━━━━━━━━━━━━━\u001b[0m\u001b[37m\u001b[0m \u001b[1m0s\u001b[0m 5ms/step - loss: 0.0661 - mae: 0.1980 - val_loss: 0.0701 - val_mae: 0.2138\n",
            "Epoch 21/70\n",
            "\u001b[1m11/11\u001b[0m \u001b[32m━━━━━━━━━━━━━━━━━━━━\u001b[0m\u001b[37m\u001b[0m \u001b[1m0s\u001b[0m 18ms/step - loss: 0.0654 - mae: 0.1968 - val_loss: 0.0694 - val_mae: 0.2126\n",
            "Epoch 22/70\n",
            "\u001b[1m11/11\u001b[0m \u001b[32m━━━━━━━━━━━━━━━━━━━━\u001b[0m\u001b[37m\u001b[0m \u001b[1m0s\u001b[0m 9ms/step - loss: 0.0648 - mae: 0.1957 - val_loss: 0.0686 - val_mae: 0.2113\n",
            "Epoch 23/70\n",
            "\u001b[1m11/11\u001b[0m \u001b[32m━━━━━━━━━━━━━━━━━━━━\u001b[0m\u001b[37m\u001b[0m \u001b[1m0s\u001b[0m 7ms/step - loss: 0.0642 - mae: 0.1945 - val_loss: 0.0677 - val_mae: 0.2099\n",
            "Epoch 24/70\n",
            "\u001b[1m11/11\u001b[0m \u001b[32m━━━━━━━━━━━━━━━━━━━━\u001b[0m\u001b[37m\u001b[0m \u001b[1m0s\u001b[0m 5ms/step - loss: 0.0635 - mae: 0.1932 - val_loss: 0.0668 - val_mae: 0.2085\n",
            "Epoch 25/70\n",
            "\u001b[1m11/11\u001b[0m \u001b[32m━━━━━━━━━━━━━━━━━━━━\u001b[0m\u001b[37m\u001b[0m \u001b[1m0s\u001b[0m 5ms/step - loss: 0.0629 - mae: 0.1919 - val_loss: 0.0658 - val_mae: 0.2070\n",
            "Epoch 26/70\n",
            "\u001b[1m11/11\u001b[0m \u001b[32m━━━━━━━━━━━━━━━━━━━━\u001b[0m\u001b[37m\u001b[0m \u001b[1m0s\u001b[0m 5ms/step - loss: 0.0622 - mae: 0.1905 - val_loss: 0.0647 - val_mae: 0.2053\n",
            "Epoch 27/70\n",
            "\u001b[1m11/11\u001b[0m \u001b[32m━━━━━━━━━━━━━━━━━━━━\u001b[0m\u001b[37m\u001b[0m \u001b[1m0s\u001b[0m 5ms/step - loss: 0.0616 - mae: 0.1891 - val_loss: 0.0635 - val_mae: 0.2036\n",
            "Epoch 28/70\n",
            "\u001b[1m11/11\u001b[0m \u001b[32m━━━━━━━━━━━━━━━━━━━━\u001b[0m\u001b[37m\u001b[0m \u001b[1m0s\u001b[0m 6ms/step - loss: 0.0609 - mae: 0.1876 - val_loss: 0.0623 - val_mae: 0.2017\n",
            "Epoch 29/70\n",
            "\u001b[1m11/11\u001b[0m \u001b[32m━━━━━━━━━━━━━━━━━━━━\u001b[0m\u001b[37m\u001b[0m \u001b[1m0s\u001b[0m 6ms/step - loss: 0.0603 - mae: 0.1861 - val_loss: 0.0610 - val_mae: 0.1998\n",
            "Epoch 30/70\n",
            "\u001b[1m11/11\u001b[0m \u001b[32m━━━━━━━━━━━━━━━━━━━━\u001b[0m\u001b[37m\u001b[0m \u001b[1m0s\u001b[0m 6ms/step - loss: 0.0596 - mae: 0.1845 - val_loss: 0.0597 - val_mae: 0.1978\n",
            "Epoch 31/70\n",
            "\u001b[1m11/11\u001b[0m \u001b[32m━━━━━━━━━━━━━━━━━━━━\u001b[0m\u001b[37m\u001b[0m \u001b[1m0s\u001b[0m 6ms/step - loss: 0.0590 - mae: 0.1829 - val_loss: 0.0584 - val_mae: 0.1960\n",
            "Epoch 32/70\n",
            "\u001b[1m11/11\u001b[0m \u001b[32m━━━━━━━━━━━━━━━━━━━━\u001b[0m\u001b[37m\u001b[0m \u001b[1m0s\u001b[0m 8ms/step - loss: 0.0583 - mae: 0.1814 - val_loss: 0.0572 - val_mae: 0.1942\n",
            "Epoch 33/70\n",
            "\u001b[1m11/11\u001b[0m \u001b[32m━━━━━━━━━━━━━━━━━━━━\u001b[0m\u001b[37m\u001b[0m \u001b[1m0s\u001b[0m 6ms/step - loss: 0.0576 - mae: 0.1800 - val_loss: 0.0562 - val_mae: 0.1928\n",
            "Epoch 34/70\n",
            "\u001b[1m11/11\u001b[0m \u001b[32m━━━━━━━━━━━━━━━━━━━━\u001b[0m\u001b[37m\u001b[0m \u001b[1m0s\u001b[0m 6ms/step - loss: 0.0569 - mae: 0.1786 - val_loss: 0.0555 - val_mae: 0.1917\n",
            "Epoch 35/70\n",
            "\u001b[1m11/11\u001b[0m \u001b[32m━━━━━━━━━━━━━━━━━━━━\u001b[0m\u001b[37m\u001b[0m \u001b[1m0s\u001b[0m 6ms/step - loss: 0.0562 - mae: 0.1774 - val_loss: 0.0550 - val_mae: 0.1909\n",
            "Epoch 36/70\n",
            "\u001b[1m11/11\u001b[0m \u001b[32m━━━━━━━━━━━━━━━━━━━━\u001b[0m\u001b[37m\u001b[0m \u001b[1m0s\u001b[0m 7ms/step - loss: 0.0554 - mae: 0.1762 - val_loss: 0.0547 - val_mae: 0.1903\n",
            "Epoch 37/70\n",
            "\u001b[1m11/11\u001b[0m \u001b[32m━━━━━━━━━━━━━━━━━━━━\u001b[0m\u001b[37m\u001b[0m \u001b[1m0s\u001b[0m 6ms/step - loss: 0.0546 - mae: 0.1749 - val_loss: 0.0545 - val_mae: 0.1899\n",
            "Epoch 38/70\n",
            "\u001b[1m11/11\u001b[0m \u001b[32m━━━━━━━━━━━━━━━━━━━━\u001b[0m\u001b[37m\u001b[0m \u001b[1m0s\u001b[0m 5ms/step - loss: 0.0536 - mae: 0.1737 - val_loss: 0.0544 - val_mae: 0.1895\n",
            "Epoch 39/70\n",
            "\u001b[1m11/11\u001b[0m \u001b[32m━━━━━━━━━━━━━━━━━━━━\u001b[0m\u001b[37m\u001b[0m \u001b[1m0s\u001b[0m 7ms/step - loss: 0.0526 - mae: 0.1728 - val_loss: 0.0543 - val_mae: 0.1889\n",
            "Epoch 40/70\n",
            "\u001b[1m11/11\u001b[0m \u001b[32m━━━━━━━━━━━━━━━━━━━━\u001b[0m\u001b[37m\u001b[0m \u001b[1m0s\u001b[0m 12ms/step - loss: 0.0515 - mae: 0.1716 - val_loss: 0.0539 - val_mae: 0.1881\n",
            "Epoch 41/70\n",
            "\u001b[1m11/11\u001b[0m \u001b[32m━━━━━━━━━━━━━━━━━━━━\u001b[0m\u001b[37m\u001b[0m \u001b[1m0s\u001b[0m 8ms/step - loss: 0.0502 - mae: 0.1701 - val_loss: 0.0534 - val_mae: 0.1870\n",
            "Epoch 42/70\n",
            "\u001b[1m11/11\u001b[0m \u001b[32m━━━━━━━━━━━━━━━━━━━━\u001b[0m\u001b[37m\u001b[0m \u001b[1m0s\u001b[0m 6ms/step - loss: 0.0490 - mae: 0.1682 - val_loss: 0.0527 - val_mae: 0.1857\n",
            "Epoch 43/70\n",
            "\u001b[1m11/11\u001b[0m \u001b[32m━━━━━━━━━━━━━━━━━━━━\u001b[0m\u001b[37m\u001b[0m \u001b[1m0s\u001b[0m 6ms/step - loss: 0.0477 - mae: 0.1661 - val_loss: 0.0518 - val_mae: 0.1842\n",
            "Epoch 44/70\n",
            "\u001b[1m11/11\u001b[0m \u001b[32m━━━━━━━━━━━━━━━━━━━━\u001b[0m\u001b[37m\u001b[0m \u001b[1m0s\u001b[0m 6ms/step - loss: 0.0464 - mae: 0.1639 - val_loss: 0.0507 - val_mae: 0.1825\n",
            "Epoch 45/70\n",
            "\u001b[1m11/11\u001b[0m \u001b[32m━━━━━━━━━━━━━━━━━━━━\u001b[0m\u001b[37m\u001b[0m \u001b[1m0s\u001b[0m 5ms/step - loss: 0.0452 - mae: 0.1617 - val_loss: 0.0497 - val_mae: 0.1807\n",
            "Epoch 46/70\n",
            "\u001b[1m11/11\u001b[0m \u001b[32m━━━━━━━━━━━━━━━━━━━━\u001b[0m\u001b[37m\u001b[0m \u001b[1m0s\u001b[0m 5ms/step - loss: 0.0440 - mae: 0.1596 - val_loss: 0.0486 - val_mae: 0.1789\n",
            "Epoch 47/70\n",
            "\u001b[1m11/11\u001b[0m \u001b[32m━━━━━━━━━━━━━━━━━━━━\u001b[0m\u001b[37m\u001b[0m \u001b[1m0s\u001b[0m 5ms/step - loss: 0.0430 - mae: 0.1575 - val_loss: 0.0476 - val_mae: 0.1771\n",
            "Epoch 48/70\n",
            "\u001b[1m11/11\u001b[0m \u001b[32m━━━━━━━━━━━━━━━━━━━━\u001b[0m\u001b[37m\u001b[0m \u001b[1m0s\u001b[0m 5ms/step - loss: 0.0419 - mae: 0.1557 - val_loss: 0.0466 - val_mae: 0.1753\n",
            "Epoch 49/70\n",
            "\u001b[1m11/11\u001b[0m \u001b[32m━━━━━━━━━━━━━━━━━━━━\u001b[0m\u001b[37m\u001b[0m \u001b[1m0s\u001b[0m 6ms/step - loss: 0.0410 - mae: 0.1539 - val_loss: 0.0456 - val_mae: 0.1735\n",
            "Epoch 50/70\n",
            "\u001b[1m11/11\u001b[0m \u001b[32m━━━━━━━━━━━━━━━━━━━━\u001b[0m\u001b[37m\u001b[0m \u001b[1m0s\u001b[0m 5ms/step - loss: 0.0400 - mae: 0.1522 - val_loss: 0.0447 - val_mae: 0.1717\n",
            "Epoch 51/70\n",
            "\u001b[1m11/11\u001b[0m \u001b[32m━━━━━━━━━━━━━━━━━━━━\u001b[0m\u001b[37m\u001b[0m \u001b[1m0s\u001b[0m 5ms/step - loss: 0.0392 - mae: 0.1506 - val_loss: 0.0438 - val_mae: 0.1700\n",
            "Epoch 52/70\n",
            "\u001b[1m11/11\u001b[0m \u001b[32m━━━━━━━━━━━━━━━━━━━━\u001b[0m\u001b[37m\u001b[0m \u001b[1m0s\u001b[0m 7ms/step - loss: 0.0383 - mae: 0.1489 - val_loss: 0.0429 - val_mae: 0.1683\n",
            "Epoch 53/70\n",
            "\u001b[1m11/11\u001b[0m \u001b[32m━━━━━━━━━━━━━━━━━━━━\u001b[0m\u001b[37m\u001b[0m \u001b[1m0s\u001b[0m 5ms/step - loss: 0.0375 - mae: 0.1473 - val_loss: 0.0420 - val_mae: 0.1665\n",
            "Epoch 54/70\n",
            "\u001b[1m11/11\u001b[0m \u001b[32m━━━━━━━━━━━━━━━━━━━━\u001b[0m\u001b[37m\u001b[0m \u001b[1m0s\u001b[0m 7ms/step - loss: 0.0366 - mae: 0.1457 - val_loss: 0.0412 - val_mae: 0.1648\n",
            "Epoch 55/70\n",
            "\u001b[1m11/11\u001b[0m \u001b[32m━━━━━━━━━━━━━━━━━━━━\u001b[0m\u001b[37m\u001b[0m \u001b[1m0s\u001b[0m 6ms/step - loss: 0.0358 - mae: 0.1441 - val_loss: 0.0403 - val_mae: 0.1632\n",
            "Epoch 56/70\n",
            "\u001b[1m11/11\u001b[0m \u001b[32m━━━━━━━━━━━━━━━━━━━━\u001b[0m\u001b[37m\u001b[0m \u001b[1m0s\u001b[0m 6ms/step - loss: 0.0351 - mae: 0.1426 - val_loss: 0.0395 - val_mae: 0.1616\n",
            "Epoch 57/70\n",
            "\u001b[1m11/11\u001b[0m \u001b[32m━━━━━━━━━━━━━━━━━━━━\u001b[0m\u001b[37m\u001b[0m \u001b[1m0s\u001b[0m 7ms/step - loss: 0.0343 - mae: 0.1411 - val_loss: 0.0387 - val_mae: 0.1600\n",
            "Epoch 58/70\n",
            "\u001b[1m11/11\u001b[0m \u001b[32m━━━━━━━━━━━━━━━━━━━━\u001b[0m\u001b[37m\u001b[0m \u001b[1m0s\u001b[0m 5ms/step - loss: 0.0336 - mae: 0.1396 - val_loss: 0.0379 - val_mae: 0.1584\n",
            "Epoch 59/70\n",
            "\u001b[1m11/11\u001b[0m \u001b[32m━━━━━━━━━━━━━━━━━━━━\u001b[0m\u001b[37m\u001b[0m \u001b[1m0s\u001b[0m 5ms/step - loss: 0.0329 - mae: 0.1381 - val_loss: 0.0372 - val_mae: 0.1568\n",
            "Epoch 60/70\n",
            "\u001b[1m11/11\u001b[0m \u001b[32m━━━━━━━━━━━━━━━━━━━━\u001b[0m\u001b[37m\u001b[0m \u001b[1m0s\u001b[0m 5ms/step - loss: 0.0322 - mae: 0.1367 - val_loss: 0.0364 - val_mae: 0.1552\n",
            "Epoch 61/70\n",
            "\u001b[1m11/11\u001b[0m \u001b[32m━━━━━━━━━━━━━━━━━━━━\u001b[0m\u001b[37m\u001b[0m \u001b[1m0s\u001b[0m 6ms/step - loss: 0.0315 - mae: 0.1352 - val_loss: 0.0357 - val_mae: 0.1536\n",
            "Epoch 62/70\n",
            "\u001b[1m11/11\u001b[0m \u001b[32m━━━━━━━━━━━━━━━━━━━━\u001b[0m\u001b[37m\u001b[0m \u001b[1m0s\u001b[0m 5ms/step - loss: 0.0308 - mae: 0.1338 - val_loss: 0.0350 - val_mae: 0.1519\n",
            "Epoch 63/70\n",
            "\u001b[1m11/11\u001b[0m \u001b[32m━━━━━━━━━━━━━━━━━━━━\u001b[0m\u001b[37m\u001b[0m \u001b[1m0s\u001b[0m 5ms/step - loss: 0.0301 - mae: 0.1324 - val_loss: 0.0343 - val_mae: 0.1503\n",
            "Epoch 64/70\n",
            "\u001b[1m11/11\u001b[0m \u001b[32m━━━━━━━━━━━━━━━━━━━━\u001b[0m\u001b[37m\u001b[0m \u001b[1m0s\u001b[0m 5ms/step - loss: 0.0294 - mae: 0.1310 - val_loss: 0.0336 - val_mae: 0.1488\n",
            "Epoch 65/70\n",
            "\u001b[1m11/11\u001b[0m \u001b[32m━━━━━━━━━━━━━━━━━━━━\u001b[0m\u001b[37m\u001b[0m \u001b[1m0s\u001b[0m 7ms/step - loss: 0.0288 - mae: 0.1296 - val_loss: 0.0329 - val_mae: 0.1472\n",
            "Epoch 66/70\n",
            "\u001b[1m11/11\u001b[0m \u001b[32m━━━━━━━━━━━━━━━━━━━━\u001b[0m\u001b[37m\u001b[0m \u001b[1m0s\u001b[0m 7ms/step - loss: 0.0281 - mae: 0.1282 - val_loss: 0.0322 - val_mae: 0.1456\n",
            "Epoch 67/70\n",
            "\u001b[1m11/11\u001b[0m \u001b[32m━━━━━━━━━━━━━━━━━━━━\u001b[0m\u001b[37m\u001b[0m \u001b[1m0s\u001b[0m 5ms/step - loss: 0.0275 - mae: 0.1268 - val_loss: 0.0315 - val_mae: 0.1441\n",
            "Epoch 68/70\n",
            "\u001b[1m11/11\u001b[0m \u001b[32m━━━━━━━━━━━━━━━━━━━━\u001b[0m\u001b[37m\u001b[0m \u001b[1m0s\u001b[0m 5ms/step - loss: 0.0269 - mae: 0.1255 - val_loss: 0.0309 - val_mae: 0.1426\n",
            "Epoch 69/70\n",
            "\u001b[1m11/11\u001b[0m \u001b[32m━━━━━━━━━━━━━━━━━━━━\u001b[0m\u001b[37m\u001b[0m \u001b[1m0s\u001b[0m 5ms/step - loss: 0.0263 - mae: 0.1242 - val_loss: 0.0302 - val_mae: 0.1411\n",
            "Epoch 70/70\n",
            "\u001b[1m11/11\u001b[0m \u001b[32m━━━━━━━━━━━━━━━━━━━━\u001b[0m\u001b[37m\u001b[0m \u001b[1m0s\u001b[0m 6ms/step - loss: 0.0257 - mae: 0.1229 - val_loss: 0.0296 - val_mae: 0.1396\n"
          ]
        }
      ]
    },
    {
      "cell_type": "code",
      "source": [
        "\n",
        "# Evaluate the model on test data\n",
        "loss, mae = model.evaluate(X_test, y_test)\n",
        "print(f\"Test Loss: {loss}, Test MAE: {mae}\")\n"
      ],
      "metadata": {
        "colab": {
          "base_uri": "https://localhost:8080/"
        },
        "id": "_0jTj3MkR2yq",
        "outputId": "98efdd8a-b6c6-4a68-d12b-5aca6561e227"
      },
      "execution_count": null,
      "outputs": [
        {
          "output_type": "stream",
          "name": "stdout",
          "text": [
            "\u001b[1m5/5\u001b[0m \u001b[32m━━━━━━━━━━━━━━━━━━━━\u001b[0m\u001b[37m\u001b[0m \u001b[1m0s\u001b[0m 3ms/step - loss: 0.0301 - mae: 0.1383 \n",
            "Test Loss: 0.029593495652079582, Test MAE: 0.13958166539669037\n"
          ]
        }
      ]
    },
    {
      "cell_type": "code",
      "source": [
        "\n",
        "# Plot the training and validation loss over epochs\n",
        "plt.figure(figsize=(8, 6))\n",
        "plt.plot(history.history['loss'], label='Training Loss')\n",
        "plt.plot(history.history['val_loss'], label='Validation Loss')\n",
        "plt.title('Model Loss Over Epochs')\n",
        "plt.xlabel('Epochs')\n",
        "plt.ylabel('Loss')\n",
        "plt.legend()\n",
        "plt.grid(True)\n",
        "plt.show()"
      ],
      "metadata": {
        "id": "WkVSU6mzR4tO",
        "outputId": "cfd3a51d-229e-4282-9c22-932035ec40dd",
        "colab": {
          "base_uri": "https://localhost:8080/",
          "height": 585
        }
      },
      "execution_count": null,
      "outputs": [
        {
          "output_type": "display_data",
          "data": {
            "text/plain": [
              "<Figure size 800x600 with 1 Axes>"
            ],
            "image/png": "[encoded data removed]"
          },
          "metadata": {}
        }
      ]
    },
    {
      "cell_type": "code",
      "source": [],
      "metadata": {
        "id": "R_LBXTpjR6Rj"
      },
      "execution_count": null,
      "outputs": []
    }
  ]
}