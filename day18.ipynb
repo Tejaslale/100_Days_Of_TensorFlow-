{
  "nbformat": 4,
  "nbformat_minor": 0,
  "metadata": {
    "colab": {
      "provenance": []
    },
    "kernelspec": {
      "name": "python3",
      "display_name": "Python 3"
    },
    "language_info": {
      "name": "python"
    }
  },
  "cells": [
    {
      "cell_type": "code",
      "execution_count": null,
      "metadata": {
        "id": "XZECYqxrTuqn"
      },
      "outputs": [],
      "source": [
        "import tensorflow as tf"
      ]
    },
    {
      "cell_type": "code",
      "source": [
        "y_true = tf.constant([[1, 1, 0], [0, 0, 0]], dtype=tf.float32)\n",
        "y_pred = tf.constant([[0.3, 0, 0.7], [0.8, 0.2, 0.2]], dtype=tf.float32)"
      ],
      "metadata": {
        "id": "-5IGRa0rT5vP"
      },
      "execution_count": null,
      "outputs": []
    },
    {
      "cell_type": "code",
      "source": [
        "loss_fn = tf. keras. losses. CategoricalCrossentropy()"
      ],
      "metadata": {
        "id": "nfRQdRCXT5x9"
      },
      "execution_count": null,
      "outputs": []
    },
    {
      "cell_type": "code",
      "source": [
        "loss = loss_fn (y_true, y_pred)"
      ],
      "metadata": {
        "id": "cQtJb4H7T50e"
      },
      "execution_count": null,
      "outputs": []
    },
    {
      "cell_type": "code",
      "source": [
        "loss.numpy()"
      ],
      "metadata": {
        "colab": {
          "base_uri": "https://localhost:8080/"
        },
        "id": "BkQSj0-8T52p",
        "outputId": "e83b9a61-2acd-400c-8dc2-d750d24b71af"
      },
      "execution_count": null,
      "outputs": [
        {
          "output_type": "execute_result",
          "data": {
            "text/plain": [
              "8.661034"
            ]
          },
          "metadata": {},
          "execution_count": 9
        }
      ]
    },
    {
      "cell_type": "code",
      "source": [
        "y_true2 = tf. constant ( [1,0,1,1])\n",
        "y_pred2 = tf. constant ([0.1, 0.9, 0.8, 0.3])"
      ],
      "metadata": {
        "id": "8LbLtAT2Uvf2"
      },
      "execution_count": null,
      "outputs": []
    },
    {
      "cell_type": "code",
      "source": [
        "loss_fn = tf.keras.losses.BinaryCrossentropy()\n",
        "loss = loss_fn(y_true2, y_pred2)\n",
        "loss.numpy()"
      ],
      "metadata": {
        "colab": {
          "base_uri": "https://localhost:8080/"
        },
        "id": "m45jEMnPT56-",
        "outputId": "79a6bb9f-3be1-4440-8157-a4d064f96dba"
      },
      "execution_count": null,
      "outputs": [
        {
          "output_type": "execute_result",
          "data": {
            "text/plain": [
              "1.5080717"
            ]
          },
          "metadata": {},
          "execution_count": 12
        }
      ]
    },
    {
      "cell_type": "code",
      "source": [
        "y_true2 = tf.constant([[1, 1, 0], [0, 0, 0]], dtype=tf.float32)\n",
        "y_pred2 = tf.constant([[0.3, 0, 0.7], [0.8, 0.2, 0.2]], dtype=tf.float32)\n",
        "\n",
        "loss_fn2 = tf.keras.losses.BinaryCrossentropy()\n",
        "loss = loss_fn2(y_true2, y_pred2)\n",
        "loss.numpy()\n"
      ],
      "metadata": {
        "colab": {
          "base_uri": "https://localhost:8080/"
        },
        "id": "qNyl638wT5-F",
        "outputId": "390546f3-44ae-4939-902c-8f274e556d68"
      },
      "execution_count": null,
      "outputs": [
        {
          "output_type": "execute_result",
          "data": {
            "text/plain": [
              "3.430294"
            ]
          },
          "metadata": {},
          "execution_count": 13
        }
      ]
    },
    {
      "cell_type": "code",
      "source": [
        "loss2 = loss_fn2(y_true2, y_pred2)\n",
        "loss2.numpy()"
      ],
      "metadata": {
        "colab": {
          "base_uri": "https://localhost:8080/"
        },
        "id": "WdNu5nlzT6BQ",
        "outputId": "c04f819f-b01e-4b19-f668-35578eddd988"
      },
      "execution_count": null,
      "outputs": [
        {
          "output_type": "execute_result",
          "data": {
            "text/plain": [
              "3.430294"
            ]
          },
          "metadata": {},
          "execution_count": 14
        }
      ]
    },
    {
      "cell_type": "code",
      "source": [
        "loss2.numpy()\n"
      ],
      "metadata": {
        "colab": {
          "base_uri": "https://localhost:8080/"
        },
        "id": "qVBYsDOFT6D7",
        "outputId": "11f65a09-eeef-4cff-df65-c58e3728d240"
      },
      "execution_count": null,
      "outputs": [
        {
          "output_type": "execute_result",
          "data": {
            "text/plain": [
              "3.430294"
            ]
          },
          "metadata": {},
          "execution_count": 15
        }
      ]
    },
    {
      "cell_type": "code",
      "source": [
        "y_true3 = tf.constant([0, 0, 1, 0], dtype=tf.float32)\n",
        "y_pred3 = tf.constant([0.1, 0.3, 0.7, 0.3], dtype=tf.float32)\n"
      ],
      "metadata": {
        "id": "WzqiSr_gT6Gc"
      },
      "execution_count": null,
      "outputs": []
    },
    {
      "cell_type": "code",
      "source": [
        "# Calculate the loss\n",
        "loss = loss_fn(y_true3, y_pred3)\n",
        "# Print the loss\n",
        "print(loss.numpy())\n"
      ],
      "metadata": {
        "colab": {
          "base_uri": "https://localhost:8080/"
        },
        "id": "AQDdMuc-T6I0",
        "outputId": "918f37ed-3900-42e3-dfd0-40a73a186b85"
      },
      "execution_count": null,
      "outputs": [
        {
          "output_type": "stream",
          "name": "stdout",
          "text": [
            "0.29384637\n"
          ]
        }
      ]
    },
    {
      "cell_type": "code",
      "source": [
        "loss_fn3 = loss_fn(y_true3, y_pred3)\n",
        "loss_fn3.numpy()\n"
      ],
      "metadata": {
        "colab": {
          "base_uri": "https://localhost:8080/"
        },
        "id": "LZodHsSOT6LW",
        "outputId": "e360e6fb-db40-43e5-f269-ae0420187c99"
      },
      "execution_count": null,
      "outputs": [
        {
          "output_type": "execute_result",
          "data": {
            "text/plain": [
              "0.29384637"
            ]
          },
          "metadata": {},
          "execution_count": 18
        }
      ]
    },
    {
      "cell_type": "code",
      "source": [],
      "metadata": {
        "id": "2euA5S-CT6OA"
      },
      "execution_count": null,
      "outputs": []
    },
    {
      "cell_type": "code",
      "source": [],
      "metadata": {
        "id": "ABtUV9-OT6Qr"
      },
      "execution_count": null,
      "outputs": []
    },
    {
      "cell_type": "code",
      "source": [],
      "metadata": {
        "id": "dRVyVvIkT6TL"
      },
      "execution_count": null,
      "outputs": []
    },
    {
      "cell_type": "code",
      "source": [],
      "metadata": {
        "id": "df4eBmz7T6Vt"
      },
      "execution_count": null,
      "outputs": []
    },
    {
      "cell_type": "code",
      "source": [],
      "metadata": {
        "id": "9VFs3dlNT6YT"
      },
      "execution_count": null,
      "outputs": []
    },
    {
      "cell_type": "code",
      "source": [],
      "metadata": {
        "id": "_ckCx7eoT6bC"
      },
      "execution_count": null,
      "outputs": []
    },
    {
      "cell_type": "code",
      "source": [],
      "metadata": {
        "id": "YqlCNdKPT6dz"
      },
      "execution_count": null,
      "outputs": []
    },
    {
      "cell_type": "code",
      "source": [],
      "metadata": {
        "id": "kUwXBl4lT6gp"
      },
      "execution_count": null,
      "outputs": []
    },
    {
      "cell_type": "code",
      "source": [],
      "metadata": {
        "id": "2wefGzsOT6jH"
      },
      "execution_count": null,
      "outputs": []
    },
    {
      "cell_type": "code",
      "source": [],
      "metadata": {
        "id": "odjWWRmiT6l1"
      },
      "execution_count": null,
      "outputs": []
    },
    {
      "cell_type": "code",
      "source": [],
      "metadata": {
        "id": "KMkSCug3T6oj"
      },
      "execution_count": null,
      "outputs": []
    },
    {
      "cell_type": "code",
      "source": [],
      "metadata": {
        "id": "vFMjlRCST6rE"
      },
      "execution_count": null,
      "outputs": []
    }
  ]
}