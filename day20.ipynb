{
  "nbformat": 4,
  "nbformat_minor": 0,
  "metadata": {
    "colab": {
      "provenance": []
    },
    "kernelspec": {
      "name": "python3",
      "display_name": "Python 3"
    },
    "language_info": {
      "name": "python"
    }
  },
  "cells": [
    {
      "cell_type": "code",
      "execution_count": null,
      "metadata": {
        "colab": {
          "base_uri": "https://localhost:8080/"
        },
        "id": "Ncuv_CMSSZr7",
        "outputId": "efdb240f-b0e7-4528-cb66-0f0ac6488930"
      },
      "outputs": [
        {
          "output_type": "stream",
          "name": "stderr",
          "text": [
            "/usr/local/lib/python3.10/dist-packages/keras/src/layers/core/dense.py:87: UserWarning: Do not pass an `input_shape`/`input_dim` argument to a layer. When using Sequential models, prefer using an `Input(shape)` object as the first layer in the model instead.\n",
            "  super().__init__(activity_regularizer=activity_regularizer, **kwargs)\n"
          ]
        }
      ],
      "source": [
        "import tensorflow as tf\n",
        "\n",
        "# Example: Simple Sequential Model\n",
        "model = tf.keras.Sequential([\n",
        "  tf.keras.layers.Dense(76, activation=None, input_shape=(1,)),\n",
        "  tf.keras.layers.Dense(1)\n",
        "])\n"
      ]
    },
    {
      "cell_type": "code",
      "source": [
        "model.compile(optimizer=tf.keras.optimizers.Adamax(learning_rate=0.001), loss=tf.keras.losses.MeanAbsoluteError(), metrics=['mae'])\n"
      ],
      "metadata": {
        "id": "iZ1UZfj4SeUZ"
      },
      "execution_count": null,
      "outputs": []
    },
    {
      "cell_type": "code",
      "source": [
        "checkpoint_callback = tf.keras.callbacks.ModelCheckpoint(\n",
        "    filepath='model.keras',\n",
        "    save_best_only=True,\n",
        "    monitor='val_loss',\n",
        "    mode='min',\n",
        "    verbose=1\n",
        ")\n"
      ],
      "metadata": {
        "id": "tqUYflzjSebU"
      },
      "execution_count": null,
      "outputs": []
    },
    {
      "cell_type": "markdown",
      "source": [
        "Key Parameters:\n",
        "filepath: The path where the model or weights will be saved. This can include placeholders like {epoch) or {val_loss) to include the epoch number or metric value in the filename.\n",
        "save_best_only: If True, the model will only be saved when the monitored metric improves. This helps ensure you only keep the best version of the model.\n",
        "not.\n",
        "monitor: The metric to monitor, such as 'val_loss' or 'val_accuracy'. This is the metric that determines whether the model should be saved or\n",
        "mode: Determines whether to look for the maximum or minimum value of the monitored metric. Use 'min' for metrics like loss (where lower is better) and 'max' for metrics like accuracy (where higher is better).\n",
        "verbose: If 1, it prints messages about model saving. If 0, it is silent."
      ],
      "metadata": {
        "id": "OsWU8k6hS20K"
      }
    },
    {
      "cell_type": "code",
      "source": [
        "X = tf.range(1, 101, 4)\n",
        "X\n"
      ],
      "metadata": {
        "colab": {
          "base_uri": "https://localhost:8080/"
        },
        "id": "OsocRidMSed7",
        "outputId": "0fd482be-adb7-4683-ec44-ce69d2f84d44"
      },
      "execution_count": null,
      "outputs": [
        {
          "output_type": "execute_result",
          "data": {
            "text/plain": [
              "<tf.Tensor: shape=(25,), dtype=int32, numpy=\n",
              "array([ 1,  5,  9, 13, 17, 21, 25, 29, 33, 37, 41, 45, 49, 53, 57, 61, 65,\n",
              "       69, 73, 77, 81, 85, 89, 93, 97], dtype=int32)>"
            ]
          },
          "metadata": {},
          "execution_count": 4
        }
      ]
    },
    {
      "cell_type": "code",
      "source": [
        "y = 2 * X + 3\n",
        "y\n"
      ],
      "metadata": {
        "colab": {
          "base_uri": "https://localhost:8080/"
        },
        "id": "r-df9ccbSegr",
        "outputId": "50f4d874-4502-4608-a5c9-3f29c38e97b3"
      },
      "execution_count": null,
      "outputs": [
        {
          "output_type": "execute_result",
          "data": {
            "text/plain": [
              "<tf.Tensor: shape=(25,), dtype=int32, numpy=\n",
              "array([  5,  13,  21,  29,  37,  45,  53,  61,  69,  77,  85,  93, 101,\n",
              "       109, 117, 125, 133, 141, 149, 157, 165, 173, 181, 189, 197],\n",
              "      dtype=int32)>"
            ]
          },
          "metadata": {},
          "execution_count": 5
        }
      ]
    },
    {
      "cell_type": "code",
      "source": [
        "# prompt: x = tf. cast(tf. constant (x), dtype = tf.float32)\n",
        "# = tf. cast(tf.constant(y), dtype = tf.float32)\n",
        "# +\n",
        "\n",
        "x = tf.cast(tf.constant(X), dtype=tf.float32)\n",
        "y = tf.cast(tf.constant(y), dtype=tf.float32)\n",
        "\n",
        "history = model.fit(x, y, epochs=100, validation_split=0.2, callbacks=[checkpoint_callback])\n"
      ],
      "metadata": {
        "id": "IHYze-KOSejf"
      },
      "execution_count": null,
      "outputs": []
    },
    {
      "cell_type": "code",
      "source": [
        "# prompt: model. fit(x,y, epochs=500)\n",
        "\n",
        "history = model.fit(x, y, epochs=500)\n"
      ],
      "metadata": {
        "id": "UlbFdTNmSemQ"
      },
      "execution_count": null,
      "outputs": []
    },
    {
      "cell_type": "code",
      "source": [
        "# prompt: import numpy as np\n",
        "# predict = model. predict(np. array ( [5.0]) ›\n",
        "\n",
        "import numpy as np\n",
        "predict = model.predict(np.array([5.0]))\n"
      ],
      "metadata": {
        "id": "2oaljNSeSepB"
      },
      "execution_count": null,
      "outputs": []
    },
    {
      "cell_type": "code",
      "source": [
        "import numpy as np\n",
        "predict = model.predict(np.array([10.0]))\n",
        "predict\n"
      ],
      "metadata": {
        "colab": {
          "base_uri": "https://localhost:8080/"
        },
        "id": "HGj7FM1DSeud",
        "outputId": "52babb6d-84ad-4b78-c9c3-88cbe5956041"
      },
      "execution_count": null,
      "outputs": [
        {
          "output_type": "stream",
          "name": "stdout",
          "text": [
            "\u001b[1m1/1\u001b[0m \u001b[32m━━━━━━━━━━━━━━━━━━━━\u001b[0m\u001b[37m\u001b[0m \u001b[1m0s\u001b[0m 86ms/step\n"
          ]
        },
        {
          "output_type": "execute_result",
          "data": {
            "text/plain": [
              "array([[-3.059674]], dtype=float32)"
            ]
          },
          "metadata": {},
          "execution_count": 7
        }
      ]
    },
    {
      "cell_type": "code",
      "source": [],
      "metadata": {
        "id": "NZtQO1YtSexo"
      },
      "execution_count": null,
      "outputs": []
    },
    {
      "cell_type": "code",
      "source": [],
      "metadata": {
        "id": "OH_fVso0Se0R"
      },
      "execution_count": null,
      "outputs": []
    },
    {
      "cell_type": "code",
      "source": [],
      "metadata": {
        "id": "3KsS66q3Se27"
      },
      "execution_count": null,
      "outputs": []
    },
    {
      "cell_type": "code",
      "source": [],
      "metadata": {
        "id": "lJKK-DR2Se5m"
      },
      "execution_count": null,
      "outputs": []
    },
    {
      "cell_type": "code",
      "source": [],
      "metadata": {
        "id": "S-Tq_eOeSe8X"
      },
      "execution_count": null,
      "outputs": []
    },
    {
      "cell_type": "code",
      "source": [],
      "metadata": {
        "id": "b86vwN8TSe_a"
      },
      "execution_count": null,
      "outputs": []
    },
    {
      "cell_type": "code",
      "source": [],
      "metadata": {
        "id": "n4lihtiGSfCD"
      },
      "execution_count": null,
      "outputs": []
    },
    {
      "cell_type": "code",
      "source": [],
      "metadata": {
        "id": "z94qi1tsSfFC"
      },
      "execution_count": null,
      "outputs": []
    },
    {
      "cell_type": "code",
      "source": [],
      "metadata": {
        "id": "GX__XIQKSfHf"
      },
      "execution_count": null,
      "outputs": []
    },
    {
      "cell_type": "code",
      "source": [],
      "metadata": {
        "id": "G2G3slHGSfKR"
      },
      "execution_count": null,
      "outputs": []
    },
    {
      "cell_type": "code",
      "source": [],
      "metadata": {
        "id": "aYCHXZBcSfM0"
      },
      "execution_count": null,
      "outputs": []
    },
    {
      "cell_type": "code",
      "source": [],
      "metadata": {
        "id": "507IbirqSfPl"
      },
      "execution_count": null,
      "outputs": []
    }
  ]
}