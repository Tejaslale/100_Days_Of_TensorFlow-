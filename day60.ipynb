{
  "nbformat": 4,
  "nbformat_minor": 0,
  "metadata": {
    "colab": {
      "provenance": []
    },
    "kernelspec": {
      "name": "python3",
      "display_name": "Python 3"
    },
    "language_info": {
      "name": "python"
    }
  },
  "cells": [
    {
      "cell_type": "code",
      "execution_count": 9,
      "metadata": {
        "id": "nFzi8s2xbyeo"
      },
      "outputs": [],
      "source": [
        "import numpy as np\n",
        "\n",
        "class SimpleGridWorld:\n",
        "    def __init__(self, grid_size=(5, 5)):\n",
        "        self.grid_size = grid_size\n",
        "        self.state = (0, 0)  # Start at the top-left corner\n",
        "        self.goal = (4, 4)   # Goal position\n",
        "\n",
        "    def reset(self):\n",
        "        self.state = (0, 0)  # Reset to start position\n",
        "        return self.state\n",
        "\n",
        "    def step(self, action):\n",
        "        # Define possible actions: 0=up, 1=down, 2=left, 3=right\n",
        "        if action == 0:  # Move up\n",
        "            self.state = (max(self.state[0] - 1, 0), self.state[1])\n",
        "        elif action == 1:  # Move down\n",
        "            self.state = (min(self.state[0] + 1, self.grid_size[0] - 1), self.state[1])\n",
        "        elif action == 2:  # Move left\n",
        "            self.state = (self.state[0], max(self.state[1] - 1, 0))\n",
        "        elif action == 3:  # Move right\n",
        "            self.state = (self.state[0], min(self.state[1] + 1, self.grid_size[1] - 1))\n",
        "\n",
        "        reward = 1 if self.state == self.goal else -0.1  # Reward for reaching the goal, penalty otherwise\n",
        "        done = self.state == self.goal  # Check if goal is reached\n",
        "        return self.state, reward, done\n",
        "\n"
      ]
    },
    {
      "cell_type": "code",
      "source": [
        "# Initialize the environment\n",
        "env = SimpleGridWorld()\n",
        "state = env.reset()\n",
        "\n"
      ],
      "metadata": {
        "id": "45GIIS5sc1u8"
      },
      "execution_count": 11,
      "outputs": []
    },
    {
      "cell_type": "code",
      "source": [
        "# Example interaction loop\n",
        "for _ in range(10):\n",
        "    action = np.random.choice(4)  # Random action\n",
        "    new_state, reward, done = env.step(action)\n",
        "    print(f\"State: {state}, Action: {action}, New State: {new_state}, Reward: {reward}\")\n",
        "    state = new_state\n",
        "    if done:\n",
        "        print(\"Goal reached!\")\n",
        "        break\n"
      ],
      "metadata": {
        "colab": {
          "base_uri": "https://localhost:8080/"
        },
        "id": "GOWad9mddkzb",
        "outputId": "3706113d-fb31-4113-96c2-80aa98a74b5a"
      },
      "execution_count": 12,
      "outputs": [
        {
          "output_type": "stream",
          "name": "stdout",
          "text": [
            "State: (0, 0), Action: 0, New State: (0, 0), Reward: -0.1\n",
            "State: (0, 0), Action: 3, New State: (0, 1), Reward: -0.1\n",
            "State: (0, 1), Action: 1, New State: (1, 1), Reward: -0.1\n",
            "State: (1, 1), Action: 2, New State: (1, 0), Reward: -0.1\n",
            "State: (1, 0), Action: 0, New State: (0, 0), Reward: -0.1\n",
            "State: (0, 0), Action: 3, New State: (0, 1), Reward: -0.1\n",
            "State: (0, 1), Action: 0, New State: (0, 1), Reward: -0.1\n",
            "State: (0, 1), Action: 0, New State: (0, 1), Reward: -0.1\n",
            "State: (0, 1), Action: 1, New State: (1, 1), Reward: -0.1\n",
            "State: (1, 1), Action: 0, New State: (0, 1), Reward: -0.1\n"
          ]
        }
      ]
    },
    {
      "cell_type": "code",
      "source": [],
      "metadata": {
        "id": "nxMwQndAdvpT"
      },
      "execution_count": null,
      "outputs": []
    }
  ]
}