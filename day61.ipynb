{
  "nbformat": 4,
  "nbformat_minor": 0,
  "metadata": {
    "colab": {
      "provenance": []
    },
    "kernelspec": {
      "name": "python3",
      "display_name": "Python 3"
    },
    "language_info": {
      "name": "python"
    }
  },
  "cells": [
    {
      "cell_type": "code",
      "source": [
        "import numpy as np\n",
        "import tensorflow as tf"
      ],
      "metadata": {
        "id": "3E9fgoYdgL7b"
      },
      "execution_count": 30,
      "outputs": []
    },
    {
      "cell_type": "code",
      "source": [
        "# Define states and actions\n",
        "states = [0, 1, 2]  # 3 states\n",
        "actions = [0, 1]    # 2 actions\n"
      ],
      "metadata": {
        "id": "ezwlXPLbgL4p"
      },
      "execution_count": 31,
      "outputs": []
    },
    {
      "cell_type": "code",
      "source": [
        "# Transition probabilities P[state][action][next_state]\n",
        "P = np.array([\n",
        "    [[0.7, 0.3, 0.0],  # From state 0 to states 0, 1, 2 with action 0\n",
        "     [0.0, 0.2, 0.8]], # From state 0 to states 0, 1, 2 with action 1\n",
        "\n",
        "    [[0.0, 0.6, 0.4],  # From state 1 to states 0, 1, 2 with action 0\n",
        "     [0.0, 0.0, 1.0]], # From state 1 to states 0, 1, 2 with action 1\n",
        "\n",
        "    [[0.0, 0.0, 1.0],  # From state 2 to states 0, 1, 2 with action 0\n",
        "     [0.0, 0.0, 1.0]]  # From state 2 to states 0, 1, 2 with action 1\n",
        "], dtype=np.float32)\n"
      ],
      "metadata": {
        "id": "Uo82RWwxgL2H"
      },
      "execution_count": 32,
      "outputs": []
    },
    {
      "cell_type": "code",
      "source": [
        "# Rewards for each state-action pair\n",
        "R = np.array([\n",
        "    [5, 10],  # Rewards for actions in state 0\n",
        "    [0, 0],   # Rewards for actions in state 1\n",
        "    [0, 0]    # Rewards for actions in state 2\n",
        "], dtype=np.float32)\n"
      ],
      "metadata": {
        "id": "BSZlcMeugLzd"
      },
      "execution_count": 33,
      "outputs": []
    },
    {
      "cell_type": "code",
      "source": [
        "# Value function initialization\n",
        "value_function = tf.Variable(np.zeros(len(states), dtype=np.float32), dtype=tf.float32)\n",
        "\n",
        "# Discount factor\n",
        "gamma = 0.9\n",
        "\n",
        "# Value iteration algorithm\n",
        "def value_iteration(theta=1e-6):\n",
        "    while True:\n",
        "        delta = 0\n",
        "        for s in range(len(states)):\n",
        "            v = value_function[s].numpy()  # Current value\n",
        "            new_value = tf.reduce_max(\n",
        "                [tf.reduce_sum(P[s][a] * (R[s][a] + gamma * value_function.numpy())) for a in range(len(actions))]\n",
        "            )\n",
        "            value_function[s].assign(new_value)\n",
        "            delta = max(delta, abs(v - value_function[s].numpy()))  # Maximum change in value\n",
        "        if delta < theta:\n",
        "            break\n"
      ],
      "metadata": {
        "id": "O9XJyEBofwcX"
      },
      "execution_count": 34,
      "outputs": []
    },
    {
      "cell_type": "code",
      "source": [
        "\n",
        "# Run value iteration\n",
        "value_iteration()\n",
        "\n",
        "# Display results\n",
        "print(\"Optimal Value Function:\", value_function.numpy())\n"
      ],
      "metadata": {
        "colab": {
          "base_uri": "https://localhost:8080/"
        },
        "id": "qLRSadJQfwev",
        "outputId": "72f4e4c5-5227-4105-870d-45c3570d43a9"
      },
      "execution_count": 35,
      "outputs": [
        {
          "output_type": "stream",
          "name": "stdout",
          "text": [
            "Optimal Value Function: [13.513511  0.        0.      ]\n"
          ]
        }
      ]
    },
    {
      "cell_type": "code",
      "source": [],
      "metadata": {
        "id": "Yx19GKvVfwhz"
      },
      "execution_count": 35,
      "outputs": []
    }
  ]
}