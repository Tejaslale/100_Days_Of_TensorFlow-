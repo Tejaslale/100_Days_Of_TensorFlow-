{
  "nbformat": 4,
  "nbformat_minor": 0,
  "metadata": {
    "colab": {
      "provenance": []
    },
    "kernelspec": {
      "name": "python3",
      "display_name": "Python 3"
    },
    "language_info": {
      "name": "python"
    }
  },
  "cells": [
    {
      "cell_type": "code",
      "execution_count": 1,
      "metadata": {
        "id": "XFSWiPX7eVNB"
      },
      "outputs": [],
      "source": [
        "import tensorflow as tf\n",
        "from tensorflow.keras import layers, models\n",
        "import numpy as np"
      ]
    },
    {
      "cell_type": "code",
      "source": [
        "num_samples = 1000\n",
        "num_features = 10\n",
        "num_classes = 3"
      ],
      "metadata": {
        "id": "rmWQHc51enrO"
      },
      "execution_count": 2,
      "outputs": []
    },
    {
      "cell_type": "code",
      "source": [
        "# Random input data (features)\n",
        "x_train = np.random.random((num_samples, num_features))\n",
        "# Random target data (labels)\n",
        "y_train = np.random.randint(0, num_classes, size=(num_samples,))"
      ],
      "metadata": {
        "id": "kto0xQYFey2T"
      },
      "execution_count": 3,
      "outputs": []
    },
    {
      "cell_type": "code",
      "source": [
        "# Convert labels to one-hot encoding\n",
        "y_train = tf.keras.utils.to_categorical(y_train, num_classes)"
      ],
      "metadata": {
        "id": "GoYqqtiee1Zv"
      },
      "execution_count": 4,
      "outputs": []
    },
    {
      "cell_type": "code",
      "source": [
        "model = models.Sequential([\n",
        "    layers.Dense(64, activation='relu', input_shape=(num_features,)),\n",
        "    layers.Dense(num_classes, activation='softmax')\n",
        "])\n"
      ],
      "metadata": {
        "colab": {
          "base_uri": "https://localhost:8080/"
        },
        "id": "VQM6cRafe3k_",
        "outputId": "5f898cb8-65fe-4499-a9cb-5c0e34be80f6"
      },
      "execution_count": 5,
      "outputs": [
        {
          "output_type": "stream",
          "name": "stderr",
          "text": [
            "/usr/local/lib/python3.10/dist-packages/keras/src/layers/core/dense.py:87: UserWarning: Do not pass an `input_shape`/`input_dim` argument to a layer. When using Sequential models, prefer using an `Input(shape)` object as the first layer in the model instead.\n",
            "  super().__init__(activity_regularizer=activity_regularizer, **kwargs)\n"
          ]
        }
      ]
    },
    {
      "cell_type": "code",
      "source": [
        "loss_fn = tf.keras.losses.CategoricalCrossentropy()\n",
        "optimizer = tf.keras.optimizers.Adam()\n",
        "train_acc_metric = tf.keras.metrics.CategoricalAccuracy()\n"
      ],
      "metadata": {
        "id": "FXPNig8fe5PE"
      },
      "execution_count": 6,
      "outputs": []
    },
    {
      "cell_type": "code",
      "source": [
        "epochs = 10\n",
        "batch_size = 32\n",
        "dataset = tf.data.Dataset.from_tensor_slices((x_train, y_train))\n",
        "dataset = dataset.shuffle(buffer_size=num_samples).batch(batch_size)"
      ],
      "metadata": {
        "id": "l_kw2X8Ae7TY"
      },
      "execution_count": 7,
      "outputs": []
    },
    {
      "cell_type": "code",
      "source": [
        "for epoch in range(epochs):\n",
        "    print(f\"\\nEpoch {epoch+1}/{epochs}\")\n",
        "    epoch_loss = 0.0\n",
        "    train_acc_metric.reset_state()  # Corrected method\n",
        "\n",
        "    for step, (x_batch, y_batch) in enumerate(dataset):\n",
        "        with tf.GradientTape() as tape:\n",
        "            # Forward pass: compute predictions\n",
        "            predictions = model(x_batch, training=True)\n",
        "            # Compute loss\n",
        "            loss_value = loss_fn(y_batch, predictions)\n",
        "\n",
        "        # Backward pass: compute gradients\n",
        "        grads = tape.gradient(loss_value, model.trainable_weights)\n",
        "        # Update weights\n",
        "        optimizer.apply_gradients(zip(grads, model.trainable_weights))\n",
        "\n",
        "        # Track progress\n",
        "        epoch_loss += loss_value\n",
        "        train_acc_metric.update_state(y_batch, predictions)\n",
        "\n",
        "        if step % 10 == 0:\n",
        "            print(f\"Step {step}, Loss: {loss_value.numpy():.4f}\")\n",
        "\n",
        "    # Print results at the end of the epoch\n",
        "    avg_epoch_loss = epoch_loss / (step + 1)\n",
        "    train_acc = train_acc_metric.result()\n",
        "    print(f\"Epoch {epoch+1} - Loss: {avg_epoch_loss:.4f}, Accuracy: {train_acc:.4f}\")"
      ],
      "metadata": {
        "colab": {
          "base_uri": "https://localhost:8080/"
        },
        "id": "lj-UNCzae9Jq",
        "outputId": "8a3cb43c-113b-44d7-dee1-a020d5c09408"
      },
      "execution_count": 9,
      "outputs": [
        {
          "output_type": "stream",
          "name": "stdout",
          "text": [
            "\n",
            "Epoch 1/10\n",
            "Step 0, Loss: 1.1359\n",
            "Step 10, Loss: 1.1477\n",
            "Step 20, Loss: 1.1074\n",
            "Step 30, Loss: 1.0813\n",
            "Epoch 1 - Loss: 1.1061, Accuracy: 0.3530\n",
            "\n",
            "Epoch 2/10\n",
            "Step 0, Loss: 1.1095\n",
            "Step 10, Loss: 1.1015\n",
            "Step 20, Loss: 1.1161\n",
            "Step 30, Loss: 1.1091\n",
            "Epoch 2 - Loss: 1.0988, Accuracy: 0.3290\n",
            "\n",
            "Epoch 3/10\n",
            "Step 0, Loss: 1.0876\n",
            "Step 10, Loss: 1.1013\n",
            "Step 20, Loss: 1.0841\n",
            "Step 30, Loss: 1.1052\n",
            "Epoch 3 - Loss: 1.0986, Accuracy: 0.3520\n",
            "\n",
            "Epoch 4/10\n",
            "Step 0, Loss: 1.0842\n",
            "Step 10, Loss: 1.1031\n",
            "Step 20, Loss: 1.1137\n",
            "Step 30, Loss: 1.1090\n",
            "Epoch 4 - Loss: 1.0952, Accuracy: 0.3630\n",
            "\n",
            "Epoch 5/10\n",
            "Step 0, Loss: 1.1150\n",
            "Step 10, Loss: 1.0944\n",
            "Step 20, Loss: 1.0932\n",
            "Step 30, Loss: 1.0908\n",
            "Epoch 5 - Loss: 1.0921, Accuracy: 0.3680\n",
            "\n",
            "Epoch 6/10\n",
            "Step 0, Loss: 1.1063\n",
            "Step 10, Loss: 1.0574\n",
            "Step 20, Loss: 1.0813\n",
            "Step 30, Loss: 1.0693\n",
            "Epoch 6 - Loss: 1.0917, Accuracy: 0.3680\n",
            "\n",
            "Epoch 7/10\n",
            "Step 0, Loss: 1.0927\n",
            "Step 10, Loss: 1.0883\n",
            "Step 20, Loss: 1.0802\n",
            "Step 30, Loss: 1.0830\n",
            "Epoch 7 - Loss: 1.0908, Accuracy: 0.3890\n",
            "\n",
            "Epoch 8/10\n",
            "Step 0, Loss: 1.0839\n",
            "Step 10, Loss: 1.0807\n",
            "Step 20, Loss: 1.0743\n",
            "Step 30, Loss: 1.0765\n",
            "Epoch 8 - Loss: 1.0900, Accuracy: 0.3840\n",
            "\n",
            "Epoch 9/10\n",
            "Step 0, Loss: 1.0383\n",
            "Step 10, Loss: 1.1016\n",
            "Step 20, Loss: 1.1195\n",
            "Step 30, Loss: 1.0861\n",
            "Epoch 9 - Loss: 1.0862, Accuracy: 0.4000\n",
            "\n",
            "Epoch 10/10\n",
            "Step 0, Loss: 1.0766\n",
            "Step 10, Loss: 1.0657\n",
            "Step 20, Loss: 1.0633\n",
            "Step 30, Loss: 1.0920\n",
            "Epoch 10 - Loss: 1.0847, Accuracy: 0.3880\n"
          ]
        }
      ]
    },
    {
      "cell_type": "code",
      "source": [],
      "metadata": {
        "id": "dVwVVOjTfB0d"
      },
      "execution_count": null,
      "outputs": []
    }
  ]
}