{
  "nbformat": 4,
  "nbformat_minor": 0,
  "metadata": {
    "colab": {
      "provenance": []
    },
    "kernelspec": {
      "name": "python3",
      "display_name": "Python 3"
    },
    "language_info": {
      "name": "python"
    }
  },
  "cells": [
    {
      "cell_type": "code",
      "source": [
        "import numpy as np\n",
        "import random"
      ],
      "metadata": {
        "id": "ex1S4Hw9jUJo"
      },
      "execution_count": 2,
      "outputs": []
    },
    {
      "cell_type": "code",
      "source": [
        "# Define the environment\n",
        "states = [0, 1, 2, 3]  # Example states\n",
        "actions = [0, 1]  # Example actions (e.g., left, right)\n",
        "rewards = [0, -1, 0, 1]  # Example rewards for each state\n",
        "gamma = 0.9  # Discount factor\n",
        "alpha = 0.1  # Learning rate\n",
        "epsilon = 0.1  # Exploration rate\n",
        "q_table = np.zeros((len(states), len(actions)))  # Initialize Q-table\n"
      ],
      "metadata": {
        "id": "kMZrMbg9jUPm"
      },
      "execution_count": 3,
      "outputs": []
    },
    {
      "cell_type": "code",
      "source": [
        "# Q-learning algorithm\n",
        "def q_learning(episodes):\n",
        "    for _ in range(episodes):\n",
        "        state = random.choice(states)  # Start from a random state\n",
        "        done = False\n",
        "\n",
        "        while not done:\n",
        "            if random.uniform(0, 1) < epsilon:  # Explore\n",
        "                action = random.choice(actions)\n",
        "            else:  # Exploit\n",
        "                action = np.argmax(q_table[state])  # Best action based on Q-table\n",
        "\n",
        "            # Simulate the environment (for simplicity)\n",
        "            next_state = state + action - 1  # Transition to next state\n",
        "            next_state = max(0, min(len(states) - 1, next_state))  # Ensure state is valid\n",
        "            reward = rewards[next_state]  # Get reward for the next state\n",
        "\n",
        "            # Update Q-value using the Bellman equation\n",
        "            q_table[state, action] += alpha * (reward + gamma * np.max(q_table[next_state]) - q_table[state, action])\n",
        "\n",
        "            state = next_state  # Move to the next state\n",
        "            if state == len(states) - 1:  # End episode condition\n",
        "                done = True\n"
      ],
      "metadata": {
        "id": "kW7ikJo8jUSg"
      },
      "execution_count": 4,
      "outputs": []
    },
    {
      "cell_type": "code",
      "source": [
        "# Train the agent\n",
        "q_learning(1000)\n",
        "\n"
      ],
      "metadata": {
        "id": "1s1dWjMvjUUy"
      },
      "execution_count": 4,
      "outputs": []
    },
    {
      "cell_type": "code",
      "source": [
        "\n",
        "# Display the learned Q-values\n",
        "print(\"Learned Q-table:\")\n"
      ],
      "metadata": {
        "colab": {
          "base_uri": "https://localhost:8080/"
        },
        "id": "HZMvuznujUXb",
        "outputId": "d4514d53-6442-44c6-8958-8dd262779cde"
      },
      "execution_count": 5,
      "outputs": [
        {
          "output_type": "stream",
          "name": "stdout",
          "text": [
            "Learned Q-table:\n"
          ]
        }
      ]
    },
    {
      "cell_type": "code",
      "source": [],
      "metadata": {
        "id": "TdTUrIc9jemr"
      },
      "execution_count": null,
      "outputs": []
    }
  ]
}